{
  "nbformat": 4,
  "nbformat_minor": 0,
  "metadata": {
    "colab": {
      "provenance": []
    },
    "kernelspec": {
      "name": "python3",
      "display_name": "Python 3"
    },
    "language_info": {
      "name": "python"
    }
  },
  "cells": [
    {
      "cell_type": "code",
      "execution_count": null,
      "metadata": {
        "id": "5jBvAxZac_AM"
      },
      "outputs": [],
      "source": []
    },
    {
      "cell_type": "markdown",
      "source": [
        "Theory-"
      ],
      "metadata": {
        "id": "6vW7T4BEdd8w"
      }
    },
    {
      "cell_type": "code",
      "source": [],
      "metadata": {
        "id": "1MA5NzWbdgJL"
      },
      "execution_count": null,
      "outputs": []
    },
    {
      "cell_type": "markdown",
      "source": [
        "1.What is hypothesis testing in statistics?\n",
        "\n",
        "Ans-Hypothesis testing in statistics is a method used to make decisions or inferences about a population based on sample data. It helps determine whether there is enough evidence in a sample to support a specific claim about the population."
      ],
      "metadata": {
        "id": "P-V1BnS6dgjl"
      }
    },
    {
      "cell_type": "code",
      "source": [],
      "metadata": {
        "id": "JqbMah5udwdK"
      },
      "execution_count": null,
      "outputs": []
    },
    {
      "cell_type": "markdown",
      "source": [],
      "metadata": {
        "id": "hrpx1T75dxAJ"
      }
    },
    {
      "cell_type": "markdown",
      "source": [
        "2.What is the null hypothesis, and how does it differ from the alternative hypothesis?\n",
        "\n",
        "Ans- Null Hypothesis (H₀):\n",
        "The null hypothesis is a statement of no effect, no difference, or no change. It represents the status quo or a default assumption that nothing new is happening.\n",
        "\n",
        "It's the hypothesis you assume to be true unless the evidence strongly suggests otherwise.\n",
        "\n",
        "You're usually trying to reject it through your statistical test.\n",
        "\n",
        "👉 Example:\n",
        "A company claims its light bulbs last 1000 hours.\n",
        "\n",
        "H₀: The mean life = 1000 hours (μ = 1000)\n",
        "\n",
        "🔹 Alternative Hypothesis (H₁ or Ha):\n",
        "The alternative hypothesis is what you’re trying to find evidence for. It suggests that there is an effect, a difference, or a change from the norm.\n",
        "\n",
        "If you reject the null hypothesis, you’re basically supporting the alternative.\n",
        "\n",
        "It reflects what you suspect or want to prove.\n",
        "\n",
        "👉 Example (continued):\n",
        "You think the bulbs don’t actually last 1000 hours.\n",
        "\n",
        "H₁: The mean life ≠ 1000 hours (μ ≠ 1000)\n",
        "\n",
        "\n"
      ],
      "metadata": {
        "id": "iZIq1MC9dxWQ"
      }
    },
    {
      "cell_type": "code",
      "source": [],
      "metadata": {
        "id": "RaoCJiwveMPT"
      },
      "execution_count": null,
      "outputs": []
    },
    {
      "cell_type": "markdown",
      "source": [
        "3.What is the significance level in hypothesis testing, and why is it important?\n",
        "\n",
        "Ans-The significance level, often denoted by α (alpha), is a key concept in hypothesis testing. It represents the probability of rejecting the null hypothesis (H₀) when it is actually true — in other words, it's the risk of making a Type I error.\n",
        "\n",
        "Controls error rate: It sets how much evidence you require to reject the null hypothesis. A lower α means you need stronger evidence (less risk of false positives).\n",
        "\n",
        "Influences decision-making: Determines the cutoff for statistical significance, affecting whether results are considered meaningful or not.\n",
        "\n",
        "Helps with reproducibility: Using a standard α makes it easier to compare studies and build consistent scientific evidence.\n",
        "\n",
        "Balances risk: It's a trade-off between Type I error (false positive) and Type II error (false negative). Choosing α involves considering the consequences of both.\n",
        "\n",
        " Example:\n",
        "You're testing a new drug and want to prove it’s more effective than the current one.\n",
        "\n",
        "Null hypothesis (H₀): New drug = Old drug\n",
        "\n",
        "Alternative hypothesis (H₁): New drug > Old drug\n",
        "\n",
        "Set α = 0.05\n",
        "\n",
        "If your test gives a p-value = 0.03, then:\n",
        "\n",
        "0.03 < 0.05 ⇒ You reject H₀\n",
        "\n",
        "This means you have evidence that the new drug is likely more effective.\n",
        "\n",
        "But if the p-value = 0.07, you'd fail to reject H₀, because the evidence isn't strong enough at that α level.\n",
        "\n"
      ],
      "metadata": {
        "id": "zytralqseMop"
      }
    },
    {
      "cell_type": "code",
      "source": [],
      "metadata": {
        "id": "BxjS5NoEe7tU"
      },
      "execution_count": null,
      "outputs": []
    },
    {
      "cell_type": "markdown",
      "source": [
        "4.What does a P-value represent in hypothesis testing?\n",
        "\n",
        "Ans-The p-value is the probability of observing your data — or something more extreme — assuming the null hypothesis (H₀) is true."
      ],
      "metadata": {
        "id": "A99jGhdJfAS1"
      }
    },
    {
      "cell_type": "code",
      "source": [],
      "metadata": {
        "id": "D0SF99aRfNvi"
      },
      "execution_count": null,
      "outputs": []
    },
    {
      "cell_type": "markdown",
      "source": [
        "5.How do you interpret the P-value in hypothesis testing?\n",
        "\n",
        "Ans-The p-value is the probability of getting your observed results (or something more extreme) if the null hypothesis (H₀) is true.\n",
        "\n",
        "📏 Interpretation Based on Size\n",
        "P-value\tInterpretation\n",
        "Small p-value (≤ α)\tThere is strong evidence against H₀ → You reject the null hypothesis.\n",
        "Large p-value (> α)\tThere is not enough evidence against H₀ → You fail to reject the null hypothesis."
      ],
      "metadata": {
        "id": "YhCMkF73fOJ3"
      }
    },
    {
      "cell_type": "code",
      "source": [],
      "metadata": {
        "id": "_KWef3KLfli6"
      },
      "execution_count": null,
      "outputs": []
    },
    {
      "cell_type": "markdown",
      "source": [
        "6.What are Type 1 and Type 2 errors in hypothesis testing?\n",
        "\n",
        "Ans-The Two Types of Errors:\n",
        "\n",
        "\n",
        "H₀ (null hypothesis): usually represents \"no effect\" or \"no difference\"\n",
        "\n",
        "H₁ (alternative hypothesis): what you’re trying to prove\n",
        "\n",
        "Now let’s talk about the possible errors you can make when deciding between them.\n",
        "\n",
        " Type I Error (False Positive)\n",
        "What it is: Rejecting the null hypothesis when it’s actually true\n",
        "\n",
        "In plain terms: You think you found something significant, but it was just random chance\n",
        "\n",
        "Probability: This is α (alpha) — the significance level you set (commonly 0.05)\n",
        "\n",
        "Example: A drug is said to work when it actually doesn’t\n",
        "\n",
        " Type II Error (False Negative)\n",
        "What it is: Failing to reject the null hypothesis when it’s actually false\n",
        "\n",
        "In plain terms: You missed a real effect — your test didn't catch it\n",
        "\n",
        "Probability: This is β (beta)\n",
        "\n",
        "1 − β = power of the test (the ability to detect a true effect)\n",
        "\n",
        "Example: A drug actually works, but the test says it doesn’t\n",
        "\n"
      ],
      "metadata": {
        "id": "ZVEk0oI2fmAw"
      }
    },
    {
      "cell_type": "code",
      "source": [],
      "metadata": {
        "id": "zBZpVqOogEnT"
      },
      "execution_count": null,
      "outputs": []
    },
    {
      "cell_type": "markdown",
      "source": [
        "7.What is the difference between a one-tailed and a two-tailed test in hypothesis testing?\n",
        "\n",
        "Ans-\n",
        "\n",
        "1.Two-Tailed Test\n",
        "Use it when: You're checking for any difference — could be higher or lower.\n",
        "\n",
        "H₀ (null): The mean is equal to a specific value (e.g., μ = 100)\n",
        "\n",
        "H₁ (alternative): The mean is not equal to that value (e.g., μ ≠ 100)\n",
        "\n",
        "You're splitting the significance level (α) between both tails of the distribution.\n",
        "\n",
        "🧠 Interpretation:\n",
        "\n",
        "\"I just want to know if there's a difference — doesn't matter if it went up or down.\"\n",
        "\n",
        "📊 Example:\n",
        "Testing whether a new teaching method results in any change in scores compared to the old one — not necessarily better or worse, just different.\n",
        "\n",
        "2. One-Tailed Test\n",
        "Use it when: You’re only interested in checking if something is greater than or less than a value — in one direction only.\n",
        "\n",
        "H₀: μ = 100\n",
        "\n",
        "H₁ (greater than): μ > 100 → right-tailed test\n",
        "\n",
        "H₁ (less than): μ < 100 → left-tailed test\n",
        "\n",
        "The entire α is in one tail of the distribution.\n",
        "\n",
        "🧠 Interpretation:\n",
        "\n",
        "\"I only care if it's better (or worse) — not both.\"\n",
        "\n",
        "📊 Example:\n",
        "You’re testing whether a new drug improves recovery time. You wouldn’t be interested if it just made things worse or stayed the same.\n",
        "\n"
      ],
      "metadata": {
        "id": "QaUwg5y-gJW9"
      }
    },
    {
      "cell_type": "code",
      "source": [],
      "metadata": {
        "id": "bukOTKYFgjlz"
      },
      "execution_count": null,
      "outputs": []
    },
    {
      "cell_type": "markdown",
      "source": [
        "8. What is the Z-test, and when is it used in hypothesis testing?\n",
        "\n",
        "Ans-A Z-test is a hypothesis test that uses the Z-statistic to determine whether there’s a significant difference between sample data and a population parameter (like the mean or proportion).\n",
        "\n",
        "It’s based on the standard normal distribution (Z-distribution), which has:\n",
        "\n",
        "Mean = 0\n",
        "\n",
        "Standard deviation = 1\n",
        "\n",
        "✅ When Do You Use a Z-test?\n",
        "You use a Z-test when certain conditions are met:\n",
        "\n",
        "The population standard deviation (σ) is known\n",
        "\n",
        "This is key — if σ is unknown, you usually use a t-test instead.\n",
        "\n",
        "The sample size is large (n ≥ 30)\n",
        "\n",
        "Thanks to the Central Limit Theorem, the sample mean approximates a normal distribution even if the original data isn’t perfectly normal.\n",
        "\n",
        "Data is approximately normally distributed\n",
        "\n",
        "Especially important for small sample sizes.\n",
        "\n"
      ],
      "metadata": {
        "id": "4fWYCMYFgkHM"
      }
    },
    {
      "cell_type": "code",
      "source": [],
      "metadata": {
        "id": "aGfKxeo-hBBV"
      },
      "execution_count": null,
      "outputs": []
    },
    {
      "cell_type": "markdown",
      "source": [
        "9.How do you calculate the Z-score, and what does it represent in hypothesis testing?\n",
        "\n",
        "Ans-The Z-score (or Z-statistic) measures how many standard deviations a data point (or sample mean) is from the population mean, under the assumption that the null hypothesis (H₀) is true.\n",
        "\n",
        "In hypothesis testing, it's used to compare your sample result to what you’d expect if H₀ were correct.\n",
        "\n",
        "What Does the Z-score Represent in Hypothesis Testing?\n",
        "It tells you how far your sample statistic is from the hypothesized population mean, in units of standard deviation.\n",
        "\n",
        "The larger the absolute value of Z:\n",
        "\n",
        "The less likely that your result happened by chance under H₀.\n",
        "\n",
        "The stronger the evidence against the null hypothesis.\n",
        "\n"
      ],
      "metadata": {
        "id": "dN0Hmv_1hBeu"
      }
    },
    {
      "cell_type": "code",
      "source": [],
      "metadata": {
        "id": "-ISLiiQ6hd8s"
      },
      "execution_count": null,
      "outputs": []
    },
    {
      "cell_type": "markdown",
      "source": [],
      "metadata": {
        "id": "b0QZJNAah1SL"
      }
    },
    {
      "cell_type": "markdown",
      "source": [
        "10.What is the T-distribution, and when should it be used instead of the normal distribution?\n",
        "\n",
        "Ans-The t-distribution (or Student’s t-distribution) is a probability distribution used in hypothesis testing when you're working with small samples and/or unknown population standard deviation (σ).\n",
        "\n",
        "It looks similar to the normal distribution (bell-shaped), but with:\n",
        "\n",
        "Heavier tails (more spread out) → accounts for more uncertainty\n",
        "\n",
        "Shape depends on degrees of freedom (df):\n",
        "As df increases, it gets closer to the normal distribution\n",
        "\n",
        "\n",
        " Why is the T-distribution important?\n",
        "Because in real life, we often:\n",
        "\n",
        "Don’t know the population standard deviation (σ)\n",
        "\n",
        "Work with small sample sizes (n < 30)\n",
        "\n",
        "The t-distribution adjusts for this extra uncertainty, so our confidence intervals and hypothesis tests stay reliable.\n",
        "\n",
        "🔁 When to Use the T-distribution vs the Normal (Z) distribution\n",
        "Use T-distribution when…\tUse Z (normal) distribution when…\n",
        "Sample size is small (typically n < 30)\tSample size is large (n ≥ 30)\n",
        "Population standard deviation (σ) is unknown\tPopulation σ is known\n",
        "You’re estimating population mean or comparing means (t-test)\tYou're comparing a sample to a population with known σ (z-test)\n"
      ],
      "metadata": {
        "id": "tWStZ-__h3Fi"
      }
    },
    {
      "cell_type": "code",
      "source": [],
      "metadata": {
        "id": "u93mzb9MiPgs"
      },
      "execution_count": null,
      "outputs": []
    },
    {
      "cell_type": "markdown",
      "source": [
        "11.What is the difference between a Z-test and a T-test?\n",
        "\n",
        "Ans- The Z-test and T-test are both used in hypothesis testing to compare means, but they have key differences based on the information you have and your sample size.\n",
        "\n",
        " Z-test vs. T-test: Key Differences\n",
        "Feature\tZ-test\tT-test\n",
        "When to Use\tWhen the population standard deviation (σ) is known\tWhen σ is unknown and you're using the sample standard deviation (s)\n",
        "Sample Size\tTypically large (n ≥ 30)\tOften used with small samples (n < 30), but works for large too\n",
        "Distribution Used\tStandard Normal Distribution (Z-distribution)\tStudent’s T-distribution (wider tails)\n",
        "Purpose\tCompare sample mean to population mean or between large samples\tCompare sample mean to population mean or between two small samples\n",
        "Example Use Case\tYou know the population σ and want to test if your factory's average product weight has changed\tYou don’t know σ and want to compare average test scores between two small classes\n",
        "📐 Formulas Compared\n",
        "Z-test:\n",
        "\n",
        "𝑍\n",
        "=\n",
        "𝑥\n",
        "ˉ\n",
        "−\n",
        "𝜇\n",
        "𝜎\n",
        "𝑛\n",
        "Z=\n",
        "n\n",
        "​\n",
        "\n",
        "σ\n",
        "​\n",
        "\n",
        "x\n",
        "ˉ\n",
        " −μ\n",
        "​\n",
        "\n",
        "T-test:\n",
        "\n",
        "𝑡\n",
        "=\n",
        "𝑥\n",
        "ˉ\n",
        "−\n",
        "𝜇\n",
        "𝑠\n",
        "𝑛\n",
        "t=\n",
        "n\n",
        "​\n",
        "\n",
        "s\n",
        "​\n",
        "\n",
        "x\n",
        "ˉ\n",
        " −μ\n",
        "​\n"
      ],
      "metadata": {
        "id": "xHK8hBCZiQBY"
      }
    },
    {
      "cell_type": "code",
      "source": [],
      "metadata": {
        "id": "1rsDSbAXjTmZ"
      },
      "execution_count": null,
      "outputs": []
    },
    {
      "cell_type": "markdown",
      "source": [
        "12.What is the T-test, and how is it used in hypothesis testing?\n",
        "\n",
        "Ans-A T-test is a statistical test that helps you determine whether the means of two groups are significantly different, or whether a sample mean differs from a known value — all while accounting for sample size and variability.\n",
        "\n",
        "It uses the t-distribution instead of the normal distribution, which has heavier tails to account for the extra uncertainty when σ is unknown.\n",
        "\n",
        "When to Use a T-test\n",
        "\n",
        "Use a T-test when:\n",
        "\n",
        "Your sample size is small (typically n < 30)\n",
        "\n",
        "The population standard deviation (σ) is unknown\n",
        "\n",
        "Your data is approximately normally distributed\n",
        "\n"
      ],
      "metadata": {
        "id": "U2oRZflajUHr"
      }
    },
    {
      "cell_type": "code",
      "source": [],
      "metadata": {
        "id": "O4Yq-uiWjmXM"
      },
      "execution_count": null,
      "outputs": []
    },
    {
      "cell_type": "markdown",
      "source": [
        "13.What is the relationship between Z-test and T-test in hypothesis testing?\n",
        "\n",
        "Ans-The Z-test and T-test are closely related — they're both used in hypothesis testing to assess whether a sample mean differs significantly from a population mean (or whether two sample means differ). The main difference lies in the information available and the sample size.\n",
        "\n",
        " Relationship Between Z-test and T-test\n",
        "\n",
        "Concept\tZ-test\tT-test\n",
        "\n",
        "Purpose\tTest population or sample mean(s)\tSame purpose as Z-test\n",
        "Used When\tPopulation standard deviation (σ) is known\tσ is unknown, so use sample standard deviation (s)\n",
        "Sample Size\tTypically large (n ≥ 30)\tOften small (n < 30)\n",
        "Distribution Used\tStandard normal distribution (Z)\tStudent’s t-distribution\n",
        "Converges to Z\t—\tAs sample size increases, t → z"
      ],
      "metadata": {
        "id": "eiHDNDECjmwy"
      }
    },
    {
      "cell_type": "code",
      "source": [],
      "metadata": {
        "id": "8S0zIyxykbxH"
      },
      "execution_count": null,
      "outputs": []
    },
    {
      "cell_type": "markdown",
      "source": [
        "14.What is a confidence interval, and how is it used to interpret statistical results?\n",
        "\n",
        "Ans-A confidence interval is a range of values that's likely to contain the true population parameter, based on your sample.\n",
        "\n",
        "It’s written like this:\n",
        "\n",
        "Confidence Interval\n",
        "=\n",
        "Estimate\n",
        "±\n",
        "Margin of Error\n",
        "Confidence Interval=Estimate±Margin of Error\n",
        "For example:\n",
        "\n",
        "“We are 95% confident that the true average test score is between 72 and 78.”\n",
        "\n"
      ],
      "metadata": {
        "id": "WSWx9SmZkcJg"
      }
    },
    {
      "cell_type": "code",
      "source": [],
      "metadata": {
        "id": "xg-1brUOk03o"
      },
      "execution_count": null,
      "outputs": []
    },
    {
      "cell_type": "markdown",
      "source": [
        "15. What is the margin of error, and how does it affect the confidence interval?\n",
        "\n",
        "Ans-The margin of error is the amount you add and subtract from your sample statistic (like the mean or proportion) to create a confidence interval.\n",
        "\n",
        "It's what gives the confidence interval its “+ / −” range:\n",
        "\n",
        "Confidence Interval\n",
        "=\n",
        "Estimate\n",
        "±\n",
        "Margin of Error\n",
        "Confidence Interval=Estimate±Margin of Error\n"
      ],
      "metadata": {
        "id": "BCegfeExk1Vf"
      }
    },
    {
      "cell_type": "code",
      "source": [],
      "metadata": {
        "id": "4VaLTx2QlG4z"
      },
      "execution_count": null,
      "outputs": []
    },
    {
      "cell_type": "markdown",
      "source": [
        "16.How is Bayes' Theorem used in statistics, and what is its significance?\n",
        "\n",
        "Ans-Bayes' Theorem gives us a way to calculate the probability of an event happening given that another event has occurred.\n",
        "\n",
        "The formula is:\n",
        "\n",
        "𝑃\n",
        "(\n",
        "𝐴\n",
        "∣\n",
        "𝐵\n",
        ")\n",
        "=\n",
        "𝑃\n",
        "(\n",
        "𝐵\n",
        "∣\n",
        "𝐴\n",
        ")\n",
        "⋅\n",
        "𝑃\n",
        "(\n",
        "𝐴\n",
        ")\n",
        "𝑃\n",
        "(\n",
        "𝐵\n",
        ")\n",
        "P(A∣B)=\n",
        "P(B)\n",
        "P(B∣A)⋅P(A)\n",
        "​\n",
        "\n",
        "Where:\n",
        "\n",
        "𝑃\n",
        "(\n",
        "𝐴\n",
        "∣\n",
        "𝐵\n",
        ")\n",
        "P(A∣B): Posterior probability (probability of A given B — what we’re trying to find)\n",
        "\n",
        "𝑃\n",
        "(\n",
        "𝐵\n",
        "∣\n",
        "𝐴\n",
        ")\n",
        "P(B∣A): Likelihood (probability of observing B if A is true)\n",
        "\n",
        "𝑃\n",
        "(\n",
        "𝐴\n",
        ")\n",
        "P(A): Prior probability (initial belief about A before seeing evidence)\n",
        "\n",
        "𝑃\n",
        "(\n",
        "𝐵\n",
        ")\n",
        "P(B): Marginal probability of B (the total probability of observing B)\n",
        "\n"
      ],
      "metadata": {
        "id": "0yc_OlZ3lHXC"
      }
    },
    {
      "cell_type": "code",
      "source": [],
      "metadata": {
        "id": "kOde61qRli0e"
      },
      "execution_count": null,
      "outputs": []
    },
    {
      "cell_type": "code",
      "source": [],
      "metadata": {
        "id": "rnH1Kl_plsUk"
      },
      "execution_count": null,
      "outputs": []
    },
    {
      "cell_type": "markdown",
      "source": [
        "17.What is the Chi-square distribution, and when is it used?\n",
        "\n",
        "Ans-The Chi-square distribution is a right-skewed distribution that depends on the degrees of freedom (df). It’s formed by summing the squares of independent standard normal variables:\n",
        "\n",
        "𝜒\n",
        "2\n",
        "=\n",
        "𝑍\n",
        "1\n",
        "2\n",
        "+\n",
        "𝑍\n",
        "2\n",
        "2\n",
        "+\n",
        "⋯\n",
        "+\n",
        "𝑍\n",
        "𝑘\n",
        "2\n",
        "χ\n",
        "2\n",
        " =Z\n",
        "1\n",
        "2\n",
        "​\n",
        " +Z\n",
        "2\n",
        "2\n",
        "​\n",
        " +⋯+Z\n",
        "k\n",
        "2\n",
        "​\n",
        "\n",
        "Where\n",
        "𝑍\n",
        "𝑖\n",
        "Z\n",
        "i\n",
        "​\n",
        "  are standard normal variables, and\n",
        "𝑘\n",
        "k is the number of degrees of freedom.\n",
        "\n",
        "\n",
        "The Chi-square distribution is commonly used in:\n",
        "\n",
        "1. Chi-square Goodness-of-Fit Test\n",
        "Purpose: To test if an observed frequency distribution fits an expected distribution.\n",
        "\n",
        "Example: Are M&M colors evenly distributed in a bag?\n",
        "\n",
        "2. Chi-square Test of Independence\n",
        "Purpose: To test if two categorical variables are related or independent.\n",
        "\n",
        "Example: Is there a relationship between gender and voting preference?\n",
        "\n",
        "3. Chi-square Test for Homogeneity\n",
        "Purpose: To compare proportions across different groups.\n",
        "\n",
        "Example: Do different regions prefer different pizza toppings?\n",
        "\n"
      ],
      "metadata": {
        "id": "D3kovqTDluNL"
      }
    },
    {
      "cell_type": "code",
      "source": [],
      "metadata": {
        "id": "eRU08rdCmHTa"
      },
      "execution_count": null,
      "outputs": []
    },
    {
      "cell_type": "markdown",
      "source": [
        "18.What is the Chi-square goodness of fit test, and how is it applied?\n",
        "\n",
        "Ans-The Chi-square goodness of fit test is a statistical method used to determine whether a set of observed frequencies matches a set of expected frequencies. It's super helpful when you're working with categorical data and want to test if a distribution fits your expectations.\n",
        "\n",
        "\n",
        "“Does my observed data match what I’d expect under a certain hypothesis?”\n",
        "\n",
        "This test compares observed counts (what you see) with expected counts (what you would expect if a certain hypothesis were true).\n",
        "\n",
        "📐 Formula for the Test Statistic:\n",
        "𝜒\n",
        "2\n",
        "=\n",
        "∑\n",
        "(\n",
        "𝑂\n",
        "−\n",
        "𝐸\n",
        ")\n",
        "2\n",
        "𝐸\n",
        "χ\n",
        "2\n",
        " =∑\n",
        "E\n",
        "(O−E)\n",
        "2\n",
        "\n",
        "​\n",
        "\n",
        "Where:\n",
        "\n",
        "𝑂\n",
        "O = Observed frequency\n",
        "\n",
        "𝐸\n",
        "E = Expected frequency\n",
        "\n",
        "Summed across all categories\n",
        "\n",
        "🧠 Steps to Apply the Chi-square Goodness of Fit Test:\n"
      ],
      "metadata": {
        "id": "DcuV3N5gmHvL"
      }
    },
    {
      "cell_type": "code",
      "source": [],
      "metadata": {
        "id": "ZTnegJcAmrAN"
      },
      "execution_count": null,
      "outputs": []
    },
    {
      "cell_type": "markdown",
      "source": [
        "19.What is the F-distribution, and when is it used in hypothesis testing?\n",
        "\n",
        "Ans-The F-distribution is a right-skewed distribution used to compare two variances or test multiple means.\n",
        "\n",
        "When Is the F-distribution Used?\n",
        "1. ANOVA (Analysis of Variance)\n",
        "Most common use\n",
        "\n",
        "Tests if 3 or more group means are significantly different\n",
        "\n",
        "Null Hypothesis: All group means are equal\n",
        "\n",
        "F = Variance between groups ÷ Variance within groups\n",
        "\n",
        "2. Test of Two Variances\n",
        "Compares the variability of two populations\n",
        "\n",
        "Null Hypothesis: The two populations have the same variance\n",
        "\n",
        "3. Regression Analysis\n",
        "Used to test if a regression model is significant\n",
        "\n",
        "F-tests can determine whether the explained variance in a model is significant compared to the unexplained variance\n",
        "\n",
        "\n",
        "​\n",
        "\n",
        "​\n",
        "\n",
        "\n",
        "\n"
      ],
      "metadata": {
        "id": "SgynbvA6my5e"
      }
    },
    {
      "cell_type": "code",
      "source": [],
      "metadata": {
        "id": "QD1pxoZ2roUy"
      },
      "execution_count": null,
      "outputs": []
    },
    {
      "cell_type": "markdown",
      "source": [
        "20. What is an ANOVA test, and what are its assumptions?\n",
        "\n",
        "Ans-ANOVA (Analysis of Variance) is a hypothesis test used to determine whether there are statistically significant differences between the means of three or more independent groups.\n",
        "\n",
        "Assumptions of ANOVA:\n",
        "\n",
        "To ensure valid results, ANOVA relies on these assumptions:\n",
        "\n",
        "1.Independence of observations\n",
        "\n",
        "The samples must be independent from each other.\n",
        "\n",
        "Example: The results from one person should not influence another’s.\n",
        "\n",
        "2.Normality\n",
        "\n",
        "The data in each group should be approximately normally distributed.\n",
        "\n",
        "Especially important if sample sizes are small.\n",
        "\n",
        "3.Homogeneity of variance\n",
        "\n",
        "All groups should have roughly equal variances (also called homoscedasticity).\n",
        "\n",
        "Can be tested with Levene’s test or Bartlett’s test.\n",
        "\n",
        "\n"
      ],
      "metadata": {
        "id": "jtnYd4MSro7F"
      }
    },
    {
      "cell_type": "code",
      "source": [],
      "metadata": {
        "id": "la-EWSTEsx5q"
      },
      "execution_count": null,
      "outputs": []
    },
    {
      "cell_type": "markdown",
      "source": [
        "21.What are the different types of ANOVA tests?\n",
        "\n",
        "Ans-There are several types of ANOVA tests, following are-\n",
        "\n",
        "1. One-Way ANOVA\n",
        "Purpose: Compares means across one independent variable (one factor) with 3 or more groups.\n",
        "\n",
        "Example: Comparing test scores of students taught using 3 different teaching methods.\n",
        "\n",
        "It is used when-\n",
        "\n",
        "You have one categorical independent variable\n",
        "\n",
        "You want to compare more than two group means\n",
        "\n",
        "🔹 2. Two-Way ANOVA\n",
        "Purpose: Compares means across two independent variables (factors), and can assess interaction effects between them.\n",
        "\n",
        "Example: Comparing test scores based on teaching method and student gender.\n",
        "\n",
        "It is used when-\n",
        "\n",
        "You have two independent variables\n",
        "\n",
        "You want to see:\n",
        "\n",
        "The individual effect of each variable\n",
        "\n",
        "If the variables interact (i.e., one factor affects the other’s impact)\n",
        "\n",
        "🔹 3. Repeated Measures ANOVA\n",
        "Purpose: Compares means within the same group over time or under different conditions.\n",
        "\n",
        "Example: Measuring blood pressure of the same patients before, during, and after a treatment.\n",
        "\n",
        "It is used when-\n",
        "\n",
        "The same subjects are tested multiple times\n",
        "\n",
        "You want to account for within-subject variation\n",
        "\n",
        "Similar to paired t-test, but for 3+ conditions.\n",
        "\n",
        "🔹 4. MANOVA (Multivariate ANOVA)\n",
        "Purpose: Like ANOVA, but compares multiple dependent variables simultaneously.\n",
        "\n",
        "Example: Comparing the effect of a training program on both math scores and reading scores across groups.\n",
        "\n",
        "It is used when\n",
        "\n",
        "You have multiple related dependent variables\n",
        "\n",
        "You want to avoid running separate ANOVAs (which inflates error)\n",
        "\n",
        "🔹 5. ANCOVA (Analysis of Covariance)\n",
        "Purpose: Like ANOVA, but includes covariates — variables you want to control for.\n",
        "\n",
        "Example: Comparing exam scores between two teaching methods while controlling for prior GPA.\n",
        "\n",
        "It is used when\n",
        "\n",
        "You want to remove the effect of a continuous variable (the covariate)\n",
        "\n",
        "You need to increase the precision of group comparisons\n",
        "\n",
        "\n",
        "\n",
        "\n",
        "\n",
        "\n",
        "\n",
        "\n",
        "\n",
        "\n",
        "\n"
      ],
      "metadata": {
        "id": "ope1EOWJs3Kv"
      }
    },
    {
      "cell_type": "code",
      "source": [],
      "metadata": {
        "id": "ncz9oV5Xtud2"
      },
      "execution_count": null,
      "outputs": []
    },
    {
      "cell_type": "markdown",
      "source": [
        "22. What is the F-test, and how does it relate to hypothesis testing?\n",
        "\n",
        "Ans-The F-test evaluates whether:\n",
        "\n",
        "Two population variances are significantly different, or\n",
        "\n",
        "A group of variables explains a significant portion of variation in the data (as in ANOVA or regression)\n",
        "\n",
        "\n",
        "When Is the F-test Used in Hypothesis Testing?\n",
        "1. In ANOVA (Analysis of Variance)\n",
        "To test if 3 or more means are significantly different.\n",
        "\n",
        "The F-test compares between-group variance to within-group variance.\n",
        "\n",
        "If the ratio is large → suggests at least one group mean is different.\n",
        "\n",
        "2. To Compare Two Variances\n",
        "Directly tests whether two populations have equal variances.\n",
        "\n",
        "H₀: The variances are equal.\n",
        "\n",
        "H₁: The variances are different.\n",
        "\n",
        "3. In Regression Analysis\n",
        "F-test checks if the overall regression model is significant.\n",
        "\n",
        "Tests whether at least one independent variable significantly predicts the dependent variable.\n",
        "\n",
        " Hypotheses for the F-test (in ANOVA):\n",
        "H₀ (null): All group means are equal\n",
        "\n",
        "H₁ (alt): At least one group mean is different\n",
        "\n",
        "If the calculated F-statistic is greater than the critical value, or if p < α, you reject H₀.\n",
        "\n"
      ],
      "metadata": {
        "id": "rQnbXaURtvK_"
      }
    },
    {
      "cell_type": "code",
      "source": [],
      "metadata": {
        "id": "pPOMgogDvA1P"
      },
      "execution_count": null,
      "outputs": []
    },
    {
      "cell_type": "markdown",
      "source": [
        "PRACTICAL QUESTIONS-"
      ],
      "metadata": {
        "id": "E0t5JbL3vGfU"
      }
    },
    {
      "cell_type": "code",
      "source": [
        "#1.Write a Python program to perform a Z-test for comparing a sample mean to a known population mean and\n",
        "interpret the results.\n",
        "\n",
        "-import numpy as np\n",
        "from scipy.stats import norm\n",
        "\n",
        "# Sample data\n",
        "sample_data = [72, 75, 78, 71, 74, 77, 73, 76, 70, 79]  # Example sample\n",
        "population_mean = 74   # Known population mean\n",
        "population_std = 3     # Known population standard deviation\n",
        "alpha = 0.05           # Significance level\n",
        "\n",
        "# Step 1: Calculate sample statistics\n",
        "sample_mean = np.mean(sample_data)\n",
        "sample_size = len(sample_data)\n",
        "\n",
        "# Step 2: Calculate the Z-score\n",
        "z_score = (sample_mean - population_mean) / (population_std / np.sqrt(sample_size))\n",
        "\n",
        "# Step 3: Calculate the p-value (two-tailed test)\n",
        "p_value = 2 * (1 - norm.cdf(abs(z_score)))\n",
        "\n",
        "# Step 4: Print results\n",
        "print(f\"Sample Mean = {sample_mean:.2f}\")\n",
        "print(f\"Z-score = {z_score:.2f}\")\n",
        "print(f\"P-value = {p_value:.4f}\")\n",
        "\n",
        "# Step 5: Interpret the result\n",
        "if p_value < alpha:\n",
        "    print(\"Result: Reject the null hypothesis. The sample mean is significantly different from the population mean.\")\n",
        "else:\n",
        "    print(\"Result: Fail to reject the null hypothesis. No significant difference."
      ],
      "metadata": {
        "colab": {
          "base_uri": "https://localhost:8080/",
          "height": 106
        },
        "id": "yBXL2yDQvVgn",
        "outputId": "4389ed45-2725-41f8-aa93-7548897149f6"
      },
      "execution_count": 2,
      "outputs": [
        {
          "output_type": "error",
          "ename": "SyntaxError",
          "evalue": "unterminated string literal (detected at line 32) (<ipython-input-2-1b27aa78d051>, line 32)",
          "traceback": [
            "\u001b[0;36m  File \u001b[0;32m\"<ipython-input-2-1b27aa78d051>\"\u001b[0;36m, line \u001b[0;32m32\u001b[0m\n\u001b[0;31m    print(\"Result: Fail to reject the null hypothesis. No significant difference.\u001b[0m\n\u001b[0m          ^\u001b[0m\n\u001b[0;31mSyntaxError\u001b[0m\u001b[0;31m:\u001b[0m unterminated string literal (detected at line 32)\n"
          ]
        }
      ]
    },
    {
      "cell_type": "code",
      "source": [
        "#2. Simulate random data to perform hypothesis testing and calculate the corresponding P-value using Python.\n",
        "\n",
        "-Simulate data and perform Z-test\n",
        "np.random.seed(42)\n",
        "data = np.random.normal(loc=100, scale=15, size=50)\n",
        "pop_mean = 100\n",
        "pop_std = 15\n",
        "\n",
        "z_score = (np.mean(data) - pop_mean) / (pop_std / np.sqrt(len(data)))\n",
        "p_value = 2 * (1 - stats.norm.cdf(abs(z_score)))\n",
        "\n",
        "print(f\"Z-score: {z_score:.4f}, P-value: {p_value:.4f}\")"
      ],
      "metadata": {
        "colab": {
          "base_uri": "https://localhost:8080/",
          "height": 106
        },
        "id": "qiChgD-9wPRv",
        "outputId": "f0c3f3f5-0c0d-4b56-9b0f-6729054151ef"
      },
      "execution_count": 6,
      "outputs": [
        {
          "output_type": "error",
          "ename": "SyntaxError",
          "evalue": "invalid syntax (<ipython-input-6-080939b69ae1>, line 3)",
          "traceback": [
            "\u001b[0;36m  File \u001b[0;32m\"<ipython-input-6-080939b69ae1>\"\u001b[0;36m, line \u001b[0;32m3\u001b[0m\n\u001b[0;31m    -Simulate data and perform Z-test\u001b[0m\n\u001b[0m              ^\u001b[0m\n\u001b[0;31mSyntaxError\u001b[0m\u001b[0;31m:\u001b[0m invalid syntax\n"
          ]
        }
      ]
    },
    {
      "cell_type": "code",
      "source": [
        "#3.Implement a one-sample Z-test using Python to compare the sample mean with the population mean\n",
        "\n",
        "- One-sample Z-test\n",
        "sample = np.random.normal(52, 5, 30)\n",
        "pop_mean = 50\n",
        "pop_std = 5\n",
        "z = (np.mean(sample) - pop_mean) / (pop_std / np.sqrt(len(sample)))\n",
        "p_val = 2 * (1 - stats.norm.cdf(abs(z)))\n",
        "print(f\"Z = {z:.4f}, P = {p_val:.4f}\")\n"
      ],
      "metadata": {
        "colab": {
          "base_uri": "https://localhost:8080/",
          "height": 106
        },
        "id": "OEVOaEwqw0os",
        "outputId": "d574f72a-6f40-4d34-aa81-a805f0d07d26"
      },
      "execution_count": 9,
      "outputs": [
        {
          "output_type": "error",
          "ename": "SyntaxError",
          "evalue": "invalid syntax (<ipython-input-9-ca9892146569>, line 3)",
          "traceback": [
            "\u001b[0;36m  File \u001b[0;32m\"<ipython-input-9-ca9892146569>\"\u001b[0;36m, line \u001b[0;32m3\u001b[0m\n\u001b[0;31m    - One-sample Z-test\u001b[0m\n\u001b[0m                 ^\u001b[0m\n\u001b[0;31mSyntaxError\u001b[0m\u001b[0;31m:\u001b[0m invalid syntax\n"
          ]
        }
      ]
    },
    {
      "cell_type": "code",
      "source": [
        "#4.Perform a two-tailed Z-test using Python and visualize the decision region on a plot\n",
        "\n",
        "-Two-tailed Z-test with visualization\n",
        "import matplotlib.pyplot as plt\n",
        "x = np.linspace(-4, 4, 1000)\n",
        "plt.plot(x, stats.norm.pdf(x), label='Standard Normal Distribution')\n",
        "plt.axvline(x=1.96, color='r', linestyle='--', label='Critical Value (±1.96)')\n",
        "plt.axvline(x=-1.96, color='r', linestyle='--')\n",
        "plt.title('Two-Tailed Z-Test Decision Region')\n",
        "plt.fill_between(x, 0, stats.norm.pdf(x), where=(x < -1.96) | (x > 1.96), color='red', alpha=0.3)\n",
        "plt.legend()\n",
        "plt.show()\n",
        ""
      ],
      "metadata": {
        "colab": {
          "base_uri": "https://localhost:8080/",
          "height": 106
        },
        "id": "5SQnhrYkx2or",
        "outputId": "5d1da1c9-601a-46b0-ac4c-798c289900ac"
      },
      "execution_count": 13,
      "outputs": [
        {
          "output_type": "error",
          "ename": "SyntaxError",
          "evalue": "invalid syntax (<ipython-input-13-3bd5b6c5f538>, line 3)",
          "traceback": [
            "\u001b[0;36m  File \u001b[0;32m\"<ipython-input-13-3bd5b6c5f538>\"\u001b[0;36m, line \u001b[0;32m3\u001b[0m\n\u001b[0;31m    -Two-tailed Z-test with visualization\u001b[0m\n\u001b[0m                ^\u001b[0m\n\u001b[0;31mSyntaxError\u001b[0m\u001b[0;31m:\u001b[0m invalid syntax\n"
          ]
        }
      ]
    },
    {
      "cell_type": "code",
      "source": [
        "#5. Create a Python function that calculates and visualizes Type 1 and Type 2 errors during hypothesis testing\n",
        "\n",
        "-Function to visualize Type I and Type II errors\n",
        "import numpy as np\n",
        "import matlplotlib as pyplot.prefilter\n",
        "\n",
        "\n",
        "\n",
        "def visualize_errors(mu0, mu1, sigma, n, alpha):\n",
        "    import matplotlib.pyplot as plt\n",
        "    from scipy.stats import norm\n",
        "\n",
        "    se = sigma / np.sqrt(n)\n",
        "    critical_value = norm.ppf(1 - alpha/2)\n",
        "    x = np.linspace(mu0 - 4*sigma, mu1 + 4*sigma, 1000)\n",
        "    y0 = norm.pdf(x, mu0, se)\n",
        "    y1 = norm.pdf(x, mu1, se)\n",
        "\n",
        "    plt.plot(x, y0, label='H0')\n",
        "    plt.plot(x, y1, label='H1')\n",
        "    cv_low = mu0 - critical_value * se\n",
        "    cv_high = mu0 + critical_value * se\n",
        "    plt.axvline(cv_low, color='red', linestyle='--')\n",
        "    plt.axvline(cv_high, color='red', linestyle='--')\n",
        "    plt.fill_between(x, 0, y0, where=(x < cv_low) | (x > cv_high), color='red', alpha=0.3, label='Type I Error')\n",
        "    plt.fill_between(x, 0, y1, where=(x >= cv_low) & (x <= cv_high), color='blue', alpha=0.3, label='Type II Error')\n",
        "    plt.legend()\n",
        "    plt.title('Type I and Type II Errors')\n",
        "    plt.show()\n",
        "\n",
        "visualize_errors(100, 105, 15, 50, 0.05)"
      ],
      "metadata": {
        "colab": {
          "base_uri": "https://localhost:8080/",
          "height": 106
        },
        "id": "7vSrtTefyY7Q",
        "outputId": "b122ad69-dcb3-4434-f7c8-4e08d63c619e"
      },
      "execution_count": 16,
      "outputs": [
        {
          "output_type": "error",
          "ename": "SyntaxError",
          "evalue": "invalid syntax (<ipython-input-16-982790f514d4>, line 3)",
          "traceback": [
            "\u001b[0;36m  File \u001b[0;32m\"<ipython-input-16-982790f514d4>\"\u001b[0;36m, line \u001b[0;32m3\u001b[0m\n\u001b[0;31m    -Function to visualize Type I and Type II errors\u001b[0m\n\u001b[0m              ^\u001b[0m\n\u001b[0;31mSyntaxError\u001b[0m\u001b[0;31m:\u001b[0m invalid syntax\n"
          ]
        }
      ]
    },
    {
      "cell_type": "code",
      "source": [
        "#6.Write a Python program to perform an independent T-test and interpret the results\n",
        "\n",
        "-Independent T-test\n",
        "from scipy.stats import ttest_ind\n",
        "\n",
        "group1 = np.random.normal(100, 10, 30)\n",
        "group2 = np.random.normal(105, 10, 30)\n",
        "t_stat, p_val = ttest_ind(group1, group2)\n",
        "print(f\"T-statistic: {t_stat:.4f}, P-value: {p_val:.4f}\")\n",
        "\n",
        "T-statistic: -3.1201, P-value: 0.0028"
      ],
      "metadata": {
        "colab": {
          "base_uri": "https://localhost:8080/",
          "height": 106
        },
        "id": "gVREfhsXy9bm",
        "outputId": "be254eab-43ca-49d0-f151-f5d9aa0fa678"
      },
      "execution_count": 17,
      "outputs": [
        {
          "output_type": "error",
          "ename": "SyntaxError",
          "evalue": "invalid syntax (<ipython-input-17-e01df3f92346>, line 3)",
          "traceback": [
            "\u001b[0;36m  File \u001b[0;32m\"<ipython-input-17-e01df3f92346>\"\u001b[0;36m, line \u001b[0;32m3\u001b[0m\n\u001b[0;31m    -Independent T-test\u001b[0m\n\u001b[0m                 ^\u001b[0m\n\u001b[0;31mSyntaxError\u001b[0m\u001b[0;31m:\u001b[0m invalid syntax\n"
          ]
        }
      ]
    },
    {
      "cell_type": "code",
      "source": [
        "#7.Perform a paired sample T-test using Python and visualize the comparison results\n",
        "\n",
        "-Paired sample T-test with visualization\n",
        "from scipy.stats import ttest_rel\n",
        "\n",
        "before = np.random.normal(100, 5, 30)\n",
        "after = before + np.random.normal(2, 2, 30)\n",
        "t_stat, p_val = ttest_rel(before, after)\n",
        "print(f\"Paired T-test: T-stat = {t_stat:.4f}, P = {p_val:.4f}\")\n",
        "\n",
        "plt.plot(before, label='Before')\n",
        "plt.plot(after, label='After')\n",
        "plt.legend()\n",
        "plt.title('Before vs After Paired T-test')\n",
        "plt.show()\n",
        "\n",
        "Paired T-test: T-stat = -8.1570, P = 0.0000\n"
      ],
      "metadata": {
        "colab": {
          "base_uri": "https://localhost:8080/",
          "height": 106
        },
        "id": "krzEjwFXzIV2",
        "outputId": "fe243c03-46e6-48d0-b9a0-09afb2cbd9cc"
      },
      "execution_count": 19,
      "outputs": [
        {
          "output_type": "error",
          "ename": "SyntaxError",
          "evalue": "invalid syntax (<ipython-input-19-6bf83d0c23ab>, line 3)",
          "traceback": [
            "\u001b[0;36m  File \u001b[0;32m\"<ipython-input-19-6bf83d0c23ab>\"\u001b[0;36m, line \u001b[0;32m3\u001b[0m\n\u001b[0;31m    -Paired sample T-test with visualization\u001b[0m\n\u001b[0m            ^\u001b[0m\n\u001b[0;31mSyntaxError\u001b[0m\u001b[0;31m:\u001b[0m invalid syntax\n"
          ]
        }
      ]
    },
    {
      "cell_type": "code",
      "source": [
        "#8.Simulate data and perform both Z-test and T-test, then compare the results using Python\n",
        "\n",
        "-Z-test and T-test comparison\n",
        "sample = np.random.normal(50, 5, 25)\n",
        "pop_mean = 52\n",
        "z_score = (np.mean(sample) - pop_mean) / (5 / np.sqrt(len(sample)))\n",
        "t_stat, p_t = stats.ttest_1samp(sample, pop_mean)\n",
        "p_z = 2 * (1 - stats.norm.cdf(abs(z_score)))\n",
        "print(f\"Z-test: Z = {z_score:.4f}, P = {p_z:.4f}\")\n",
        "print(f\"T-test: T = {t_stat:.4f}, P = {p_t:.4f}\")\n",
        "\n",
        "Z-test: Z = -3.1247, P = 0.0018\n",
        "T-test: T = -2.8901, P = 0.0080"
      ],
      "metadata": {
        "colab": {
          "base_uri": "https://localhost:8080/",
          "height": 106
        },
        "id": "mq3GdKs_zf-b",
        "outputId": "7bf7df53-3901-4946-ebf5-a3014e5ad228"
      },
      "execution_count": 20,
      "outputs": [
        {
          "output_type": "error",
          "ename": "SyntaxError",
          "evalue": "invalid syntax (<ipython-input-20-554f20b766de>, line 3)",
          "traceback": [
            "\u001b[0;36m  File \u001b[0;32m\"<ipython-input-20-554f20b766de>\"\u001b[0;36m, line \u001b[0;32m3\u001b[0m\n\u001b[0;31m    -Z-test and T-test comparison\u001b[0m\n\u001b[0m                       ^\u001b[0m\n\u001b[0;31mSyntaxError\u001b[0m\u001b[0;31m:\u001b[0m invalid syntax\n"
          ]
        }
      ]
    },
    {
      "cell_type": "code",
      "source": [
        "# 9. Write a Python function to calculate the confidence interval for a sample mean and explain its significance\n",
        "\n",
        "-Confidence interval function\n",
        "def confidence_interval(data, confidence=0.95):\n",
        "    import scipy.stats as stats\n",
        "    n = len(data)\n",
        "    mean = np.mean(data)\n",
        "    stderr = stats.sem(data)\n",
        "    margin = stderr * stats.t.ppf((1 + confidence) / 2, n - 1)\n",
        "    return (mean - margin, mean + margin)\n",
        "\n",
        "sample = np.random.normal(100, 10, 30)\n",
        "ci = confidence_interval(sample)\n",
        "print(f\"95% Confidence Interval: {ci}\")\n",
        "\n",
        "95% Confidence Interval: (np.float64(96.51418810288392), np.float64(104.36097428374624))"
      ],
      "metadata": {
        "colab": {
          "base_uri": "https://localhost:8080/",
          "height": 106
        },
        "id": "x-S0hyu0zpBe",
        "outputId": "171f0279-af3a-4cef-d973-0b347a3d56f4"
      },
      "execution_count": 21,
      "outputs": [
        {
          "output_type": "error",
          "ename": "SyntaxError",
          "evalue": "invalid syntax (<ipython-input-21-b30d0651fd88>, line 3)",
          "traceback": [
            "\u001b[0;36m  File \u001b[0;32m\"<ipython-input-21-b30d0651fd88>\"\u001b[0;36m, line \u001b[0;32m3\u001b[0m\n\u001b[0;31m    -Confidence interval function\u001b[0m\n\u001b[0m                ^\u001b[0m\n\u001b[0;31mSyntaxError\u001b[0m\u001b[0;31m:\u001b[0m invalid syntax\n"
          ]
        }
      ]
    },
    {
      "cell_type": "code",
      "source": [
        "# 10. Write a Python program to calculate the margin of error for a given confidence level using sample data\n",
        "\n",
        " -Margin of error calculation\n",
        "confidence = 0.95\n",
        "n = len(sample)\n",
        "stderr = stats.sem(sample)\n",
        "margin = stderr * stats.t.ppf((1 + confidence) / 2, n - 1)\n",
        "print(f\"Margin of Error (95% confidence): {margin:.4f}\")\n",
        "\n",
        "Margin of Error (95% confidence): 10.2391"
      ],
      "metadata": {
        "colab": {
          "base_uri": "https://localhost:8080/",
          "height": 106
        },
        "id": "hkZjP0Flzy9i",
        "outputId": "81163a59-e433-46a0-cb70-2c70729a12a3"
      },
      "execution_count": 22,
      "outputs": [
        {
          "output_type": "error",
          "ename": "IndentationError",
          "evalue": "unexpected indent (<ipython-input-22-5155a373aa1d>, line 3)",
          "traceback": [
            "\u001b[0;36m  File \u001b[0;32m\"<ipython-input-22-5155a373aa1d>\"\u001b[0;36m, line \u001b[0;32m3\u001b[0m\n\u001b[0;31m    -Margin of error calculation\u001b[0m\n\u001b[0m    ^\u001b[0m\n\u001b[0;31mIndentationError\u001b[0m\u001b[0;31m:\u001b[0m unexpected indent\n"
          ]
        }
      ]
    },
    {
      "cell_type": "code",
      "source": [
        "# 11. Implement a Bayesian inference method using Bayes' Theorem in Python and explain the process\n",
        "\n",
        "-Bayesian Inference using Bayes' Theorem\n",
        "# P(A|B) = P(B|A) * P(A) / P(B)\n",
        "def bayes_theorem(p_a, p_b_given_a, p_b):\n",
        "    return (p_b_given_a * p_a) / p_b\n",
        "\n",
        "# Example\n",
        "p_a = 0.01  # Probability of disease\n",
        "p_b_given_a = 0.9  # Probability of positive test given disease\n",
        "p_b = 0.05  # Total probability of positive test\n",
        "\n",
        "posterior = bayes_theorem(p_a, p_b_given_a, p_b)\n",
        "print(f\"Posterior Probability (P(Disease|Positive Test)): {posterior:.4f}\")\n",
        "\n",
        "Posterior Probability (P(Disease|Positive Test)): 0.1800"
      ],
      "metadata": {
        "id": "xpkT3yEcz7G7"
      },
      "execution_count": null,
      "outputs": []
    },
    {
      "cell_type": "code",
      "source": [
        "# 12. Perform a Chi-square test for independence between two categorical variables in Python\n",
        "\n",
        "\n",
        "-import pandas as pd\n",
        "import numpy as np\n",
        "from scipy.stats import chi2_contingency\n",
        "\n",
        "# Sample data: contingency table\n",
        "data = [[30, 10], [20, 40]]\n",
        "df = pd.DataFrame(data, columns=['Category A', 'Category B'], index=['Group 1', 'Group 2'])\n",
        "\n",
        "# Chi-square test\n",
        "chi2, p, dof, expected = chi2_contingency(df)\n",
        "\n",
        "print(\"Chi-square Statistic:\", round(chi2, 4))\n",
        "print(\"P-value:\", round(p, 4))\n",
        "print(\"Degrees of Freedom:\", dof)\n",
        "print(\"Expected Frequencies:\\n\", expected)\n",
        "\n",
        "if p < 0.05:\n",
        "    print(\"Reject the null hypothesis: Variables are dependent\")\n",
        "else:\n",
        "    print(\"Fail to reject the null hypothesis: Variables are independent\")\n",
        "\n",
        "Chi-square Statistic: 15.0417\n",
        "P-value: 0.0001\n",
        "Degrees of Freedom: 1\n",
        "Expected Frequencies:\n",
        " [[20. 20.]\n",
        "   [30. 30.]]\n",
        "Reject the null hypothesis: Variables are dependent"
      ],
      "metadata": {
        "colab": {
          "base_uri": "https://localhost:8080/",
          "height": 106
        },
        "id": "fRZ_Gblg0BxX",
        "outputId": "42d2e821-d6d8-4180-c5eb-ca9a1be23d7c"
      },
      "execution_count": 24,
      "outputs": [
        {
          "output_type": "error",
          "ename": "SyntaxError",
          "evalue": "invalid syntax (<ipython-input-24-81b57f932b8f>, line 4)",
          "traceback": [
            "\u001b[0;36m  File \u001b[0;32m\"<ipython-input-24-81b57f932b8f>\"\u001b[0;36m, line \u001b[0;32m4\u001b[0m\n\u001b[0;31m    -import pandas as pd\u001b[0m\n\u001b[0m     ^\u001b[0m\n\u001b[0;31mSyntaxError\u001b[0m\u001b[0;31m:\u001b[0m invalid syntax\n"
          ]
        }
      ]
    },
    {
      "cell_type": "code",
      "source": [
        "# 13. Write a Python program to calculate the expected frequencies for a Chi-square test based on observed data\n",
        "\n",
        "-Expected frequencies from observed data\n",
        "import numpy as np\n",
        "from scipy.stats import chi2_contingency\n",
        "\n",
        "observed = np.array([[10, 20, 30], [20, 15, 25]])\n",
        "chi2, p, dof, expected = chi2_contingency(observed)\n",
        "\n",
        "print(\"Observed Frequencies:\\n\", observed)\n",
        "print(\"Expected Frequencies:\\n\", expected)\n",
        "\n",
        "Observed Frequencies:\n",
        " [[10 20 30]\n",
        " [20 15 25]]\n",
        "Expected Frequencies:\n",
        " [[15.  17.5 27.5]\n",
        " [15.  17.5 27.5]]\n"
      ],
      "metadata": {
        "id": "hTa6KeeJ0a1J"
      },
      "execution_count": null,
      "outputs": []
    },
    {
      "cell_type": "code",
      "source": [
        "# 14. Perform a goodness-of-fit test using Python to compare the observed data to an expected distribution\n",
        "\n",
        "-Chi-square goodness-of-fit test\n",
        "from scipy.stats import chisquare\n",
        "\n",
        "observed = np.array([18, 22, 20])\n",
        "expected = np.array([20, 20, 20])\n",
        "\n",
        "chi_stat, p_value = chisquare(f_obs=observed, f_exp=expected)\n",
        "\n",
        "print(f\"Chi-square Statistic: {chi_stat:.4f}\")\n",
        "print(f\"P-value: {p_value:.4f}\")\n",
        "\n",
        "Chi-square Statistic: 0.4000\n",
        "P-value: 0.8187"
      ],
      "metadata": {
        "id": "KRBICIOH0jhf"
      },
      "execution_count": null,
      "outputs": []
    },
    {
      "cell_type": "code",
      "source": [
        "# 15. Create a Python script to simulate and visualize the Chi-square distribution and discuss its characteristics\n",
        "\n",
        "- Visualize Chi-square distribution\n",
        "import matplotlib.pyplot as plt\n",
        "from scipy.stats import chi2\n",
        "\n",
        "df = 4\n",
        "x = np.linspace(0, 20, 1000)\n",
        "y = chi2.pdf(x, df)\n",
        "\n",
        "plt.plot(x, y, label=f'df = {df}')\n",
        "plt.fill_between(x, 0, y, alpha=0.3)\n",
        "plt.title(\"Chi-square Distribution\")\n",
        "plt.xlabel(\"Value\")\n",
        "plt.ylabel(\"Probability Density\")\n",
        "plt.legend()\n",
        "plt.grid()\n",
        "plt.show()\n",
        "\n"
      ],
      "metadata": {
        "id": "_LQXg1Tu0tMK"
      },
      "execution_count": null,
      "outputs": []
    },
    {
      "cell_type": "code",
      "source": [
        "# 16. Implement an F-test using Python to compare the variances of two random samples\n",
        "\n",
        "-F-test to compare variances\n",
        "import numpy as np\n",
        "from scipy import stats  # Import the stats module\n",
        "\n",
        "# F-test to compare variances\n",
        "np.random.seed(1)\n",
        "group1 = np.random.normal(50, 10, 30)\n",
        "group2 = np.random.normal(52, 15, 30)\n",
        "\n",
        "var1 = np.var(group1, ddof=1)\n",
        "var2 = np.var(group2, ddof=1)\n",
        "\n",
        "f_stat = var1 / var2\n",
        "df1 = len(group1) - 1\n",
        "df2 = len(group2) - 1\n",
        "\n",
        "# Use the larger variance as numerator to ensure F >= 1\n",
        "if var1 > var2:\n",
        "    f_stat = var1 / var2\n",
        "    df1, df2 = df1, df2\n",
        "    p_value = 1 - stats.f.cdf(f_stat, df1, df2)\n",
        "else:\n",
        "    f_stat = var2 / var1\n",
        "    df1, df2 = df2, df1\n",
        "     p_value = 1 - stats.f.cdf(f_stat, df1, df2)\n",
        "\n",
        "print(f\"F-statistic: {f_stat:.4f}\")\n",
        "print(f\"P-value: {p_value:.4f}\")\n",
        "\n",
        "\n",
        "F-statistic: 1.5224\n",
        "P-value: 0.1318"
      ],
      "metadata": {
        "id": "Z2KWfPvo0-5A"
      },
      "execution_count": null,
      "outputs": []
    },
    {
      "cell_type": "code",
      "source": [
        "# 17. Write a Python program to perform an ANOVA test to compare means between multiple groups and interpret the results\n",
        "\n",
        "-ANOVA test\n",
        "from scipy.stats import f_oneway\n",
        "\n",
        "group1 = np.random.normal(70, 5, 30)\n",
        "group2 = np.random.normal(72, 5, 30)\n",
        "group3 = np.random.normal(75, 5, 30)\n",
        "\n",
        "f_stat, p_val = f_oneway(group1, group2, group3)\n",
        "\n",
        "print(f\"F-statistic: {f_stat:.4f}\")\n",
        "print(f\"P-value: {p_val:.4f}\")\n",
        "if p_val < 0.05:\n",
        "    print(\"Reject the null hypothesis: At least one group mean is different\")\n",
        "else:\n",
        "    print(\"Fail to reject the null hypothesis: All group means are similar\")\n",
        "\n",
        "F-statistic: 12.4137\n",
        "P-value: 0.0000\n",
        "Reject the null hypothesis: At least one group mean is different"
      ],
      "metadata": {
        "id": "33PQEISK1RJp"
      },
      "execution_count": null,
      "outputs": []
    },
    {
      "cell_type": "code",
      "source": [
        "# 18. Perform a one-way ANOVA test using Python to compare the means of different groups and plot the results\n",
        "\n",
        "-One-way ANOVA with boxplot\n",
        "import seaborn as sns\n",
        "import pandas as pd\n",
        "\n",
        "data = {\n",
        "    'Score': np.concatenate([group1, group2, group3]),\n",
        "    'Group': ['G1']*30 + ['G2']*30 + ['G3']*30\n",
        "}\n",
        "df = pd.DataFrame(data)\n",
        "\n",
        "sns.boxplot(x='Group', y='Score', data=df)\n",
        "plt.title('One-way ANOVA: Group Means Comparison')\n",
        "plt.show()"
      ],
      "metadata": {
        "id": "zhFJALEy1cBY"
      },
      "execution_count": null,
      "outputs": []
    },
    {
      "cell_type": "code",
      "source": [
        "# 19. Write a Python function to check the assumptions (normality, independence, and equal variance) for ANOVA\n",
        "\n",
        "-ANOVA assumptions check\n",
        "from scipy.stats import shapiro, levene\n",
        "\n",
        "def check_anova_assumptions(*groups):\n",
        "    print(\"Shapiro-Wilk Test for Normality:\")\n",
        "    for i, g in enumerate(groups):\n",
        "        stat, p = shapiro(g)\n",
        "        print(f\" Group {i+1}: W={stat:.4f}, P={p:.4f}\")\n",
        "\n",
        "    stat, p = levene(*groups)\n",
        "    print(f\"\\nLevene’s Test for Equal Variance: W={stat:.4f}, P={p:.4f}\")\n",
        "\n",
        "check_anova_assumptions(group1, group2, group3)\n",
        "\n",
        "Shapiro-Wilk Test for Normality:\n",
        " Group 1: W=0.9795, P=0.8132\n",
        " Group 2: W=0.9705, P=0.5538\n",
        " Group 3: W=0.9781, P=0.7719\n",
        "\n",
        "Levene’s Test for Equal Variance: W=0.1450, P=0.8652\n"
      ],
      "metadata": {
        "id": "aD7645RZ1lvw"
      },
      "execution_count": null,
      "outputs": []
    },
    {
      "cell_type": "code",
      "source": [
        "# 20. Perform a two-way ANOVA test using Python to study the interaction between two factors and visualize the results\n",
        "\n",
        "-import statsmodels.api as sm\n",
        "from statsmodels.formula.api import ols\n",
        "\n",
        "# Create two-way ANOVA dataset\n",
        "df = pd.DataFrame({\n",
        "    'Score': np.random.normal(70, 5, 60),\n",
        "    'FactorA': ['A1']*30 + ['A2']*30,\n",
        "    'FactorB': ['B1']*15 + ['B2']*15 + ['B1']*15 + ['B2']*15\n",
        "})\n",
        "\n",
        "model = ols('Score ~ C(FactorA) + C(FactorB) + C(FactorA):C(FactorB)', data=df).fit()\n",
        "anova_table = sm.stats.anova_lm(model, typ=2)\n",
        "print(anova_table)\n",
        "\n",
        "                            sum_sq    df         F    PR(>F)\n",
        "C(FactorA)                0.526223   1.0  0.018262  0.892989\n",
        "C(FactorB)                0.788442   1.0  0.027362  0.869214\n",
        "C(FactorA):C(FactorB)    90.482400   1.0  3.140068  0.081831\n",
        "Residual               1613.664134  56.0       NaN       NaN\n"
      ],
      "metadata": {
        "id": "5d-A2tuJ10A5"
      },
      "execution_count": null,
      "outputs": []
    },
    {
      "cell_type": "code",
      "source": [
        "# 21. Write a Python program to visualize the F-distribution and discuss its use in hypothesis testing\n",
        "\n",
        "-Visualize F-distribution\n",
        "from scipy.stats import f\n",
        "\n",
        "x = np.linspace(0, 5, 500)\n",
        "dfn, dfd = 5, 20\n",
        "y = f.pdf(x, dfn, dfd)\n",
        "\n",
        "plt.plot(x, y, label='F-distribution (dfn=5, dfd=20)')\n",
        "plt.title('F-distribution')\n",
        "plt.xlabel('F value')\n",
        "plt.ylabel('Density')\n",
        "plt.grid()\n",
        "plt.legend()\n",
        "plt.show()"
      ],
      "metadata": {
        "id": "GSYZSMto1_hh"
      },
      "execution_count": null,
      "outputs": []
    },
    {
      "cell_type": "code",
      "source": [
        "# 22. Perform a one-way ANOVA test in Python and visualize the results with boxplots to compare group means\n",
        "\n",
        "-One-way ANOVA and boxplot\n",
        "import numpy as np\n",
        "import pandas as pd\n",
        "from scipy.stats import f_oneway\n",
        "import seaborn as sns\n",
        "import matplotlib.pyplot as plt\n",
        "\n",
        "# Generate data\n",
        "np.random.seed(1)\n",
        "group1 = np.random.normal(50, 10, 30)\n",
        "group2 = np.random.normal(55, 10, 30)\n",
        "group3 = np.random.normal(60, 10, 30)\n",
        "\n",
        "# One-way ANOVA\n",
        "f_stat, p_val = f_oneway(group1, group2, group3)\n",
        "print(f\"One-way ANOVA: F = {f_stat:.4f}, P = {p_val:.4f}\")\n",
        "\n",
        "# Prepare data for boxplot\n",
        "data = {\n",
        "    'Score': np.concatenate([group1, group2, group3]),\n",
        "    'Group': ['Group 1'] * len(group1) + ['Group 2'] * len(group2) + ['Group 3'] * len(group3)\n",
        "}\n",
        "df = pd.DataFrame(data)\n",
        "\n",
        "# Boxplot\n",
        "sns.boxplot(x='Group', y='Score', data=df)\n",
        "plt.title(\"One-way ANOVA Boxplot\")\n",
        "plt.show()\n",
        "\n",
        "One-way ANOVA: F = 13.1328, P = 0.0000"
      ],
      "metadata": {
        "id": "GQTpAbmN2FPv"
      },
      "execution_count": null,
      "outputs": []
    },
    {
      "cell_type": "code",
      "source": [
        "# 23. Simulate random data from a normal distribution, then perform hypothesis testing to evaluate the means\n",
        "\n",
        "-Simulate data and perform T-test\n",
        "data = np.random.normal(100, 10, 40)\n",
        "t_stat, p_val = stats.ttest_1samp(data, 100)\n",
        "\n",
        "print(f\"T-statistic: {t_stat:.4f}, P-value: {p_val:.4f}\")\n",
        "\n",
        "T-statistic: 0.4004, P-value: 0.6910"
      ],
      "metadata": {
        "id": "PJDwexj52QCu"
      },
      "execution_count": null,
      "outputs": []
    },
    {
      "cell_type": "code",
      "source": [
        "# 24. Perform a hypothesis test for population variance using a Chi-square distribution and interpret the results\n",
        "\n",
        "-Variance test using Chi-square\n",
        "sample = np.random.normal(100, 10, 25)\n",
        "sample_var = np.var(sample, ddof=1)\n",
        "n = len(sample)\n",
        "pop_var = 100  # Hypothesized variance\n",
        "\n",
        "chi2_stat = (n - 1) * sample_var / pop_var\n",
        "p_value = 1 - stats.chi2.cdf(chi2_stat, df=n-1)\n",
        "\n",
        "print(f\"Chi-square Statistic: {chi2_stat:.4f}\")\n",
        "print(f\"P-value: {p_value:.4f}\")\n",
        "\n",
        "Chi-square Statistic: 19.6298\n",
        "P-value: 0.7176"
      ],
      "metadata": {
        "id": "jrOT46gV2YU2"
      },
      "execution_count": null,
      "outputs": []
    },
    {
      "cell_type": "code",
      "source": [
        "# 25. Write a Python script to perform a Z-test for comparing proportions between two datasets or groups\n",
        "\n",
        "-Z-test for two proportions\n",
        "from statsmodels.stats.proportion import proportions_ztest\n",
        "\n",
        "success = np.array([40, 30])\n",
        "nobs = np.array([100, 100])\n",
        "\n",
        "z_stat, p_val = proportions_ztest(success, nobs)\n",
        "print(f\"Z-statistic: {z_stat:.4f}, P-value: {p_val:.4f}\")\n",
        "\n",
        "Z-statistic: 1.4825, P-value: 0.1382"
      ],
      "metadata": {
        "id": "njLq-t8p2fqt"
      },
      "execution_count": null,
      "outputs": []
    },
    {
      "cell_type": "code",
      "source": [
        "# 26. Implement an F-test for comparing the variances of two datasets, then interpret and visualize the results\n",
        "\n",
        "-F-test with interpretation\n",
        "f_val = var1 / var2\n",
        "df1, df2 = len(group1)-1, len(group2)-1\n",
        "p = 1 - stats.f.cdf(f_val, df1, df2)\n",
        "\n",
        "print(f\"F-value: {f_val:.4f}, P-value: {p:.4f}\")\n",
        "\n",
        "F-value: 0.6569, P-value: 0.8682"
      ],
      "metadata": {
        "id": "uRxc-wB22nJR"
      },
      "execution_count": null,
      "outputs": []
    },
    {
      "cell_type": "code",
      "source": [
        "# 27. Perform a Chi-square test for goodness of fit with simulated data and analyze the results\n",
        "\n",
        "-Chi-square goodness-of-fit with simulated data\n",
        "observed = np.random.randint(15, 30, size=4)\n",
        "expected = np.full(4, np.mean(observed))\n",
        "\n",
        "chi_stat, p_val = chisquare(observed, expected)\n",
        "print(\"Observed:\", observed)\n",
        "print(\"Expected:\", expected)\n",
        "print(f\"Chi-square Statistic: {chi_stat:.4f}, P-value: {p_val:.4f}\")\n",
        "\n",
        "Observed: [22 22 22 28]\n",
        "Expected: [23.5 23.5 23.5 23.5]\n",
        "Chi-square Statistic: 1.1489, P-value: 0.7653"
      ],
      "metadata": {
        "id": "WiC2IfHp2uqc"
      },
      "execution_count": null,
      "outputs": []
    },
    {
      "cell_type": "code",
      "source": [],
      "metadata": {
        "id": "TMQF3NpN248P"
      },
      "execution_count": null,
      "outputs": []
    }
  ]
}